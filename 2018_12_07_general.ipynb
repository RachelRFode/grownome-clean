{
  "nbformat": 4,
  "nbformat_minor": 0,
  "metadata": {
    "colab": {
      "name": "2018-12-07-general.ipynb",
      "provenance": [],
      "include_colab_link": true
    },
    "kernelspec": {
      "name": "python3",
      "display_name": "Python 3"
    },
    "accelerator": "GPU"
  },
  "cells": [
    {
      "cell_type": "markdown",
      "metadata": {
        "id": "view-in-github",
        "colab_type": "text"
      },
      "source": [
        "<a href=\"https://colab.research.google.com/github/RachelRFode/grownome-clean/blob/master/2018_12_07_general.ipynb\" target=\"_parent\"><img src=\"https://colab.research.google.com/assets/colab-badge.svg\" alt=\"Open In Colab\"/></a>"
      ]
    },
    {
      "cell_type": "markdown",
      "metadata": {
        "id": "8A4vMU6Ujqsz",
        "colab_type": "text"
      },
      "source": [
        "#Summary\n",
        "Use shell and python\n",
        "Get list of all of the tiles\n",
        "Function takes one of those file names into device id, timestamp, hash (python)"
      ]
    },
    {
      "cell_type": "markdown",
      "metadata": {
        "id": "opW9F5TH7YB1",
        "colab_type": "text"
      },
      "source": [
        "Imports"
      ]
    },
    {
      "cell_type": "code",
      "metadata": {
        "id": "uPDHVmi97Wp5",
        "colab_type": "code",
        "colab": {}
      },
      "source": [
        "import os\n",
        "import pandas as pd\n",
        "# using timestamp parsing function\n",
        "from datetime import datetime\n",
        "# sorting function\n",
        "from operator import itemgetter, attrgetter\n",
        "# time\n",
        "from datetime import datetime, timedelta\n",
        "# csv exporter\n",
        "import csv"
      ],
      "execution_count": 0,
      "outputs": []
    },
    {
      "cell_type": "markdown",
      "metadata": {
        "id": "aeix0iEr91Nr",
        "colab_type": "text"
      },
      "source": [
        "Authenticate google to obtain data"
      ]
    },
    {
      "cell_type": "code",
      "metadata": {
        "id": "jnVuSCrQ918V",
        "colab_type": "code",
        "colab": {}
      },
      "source": [
        "# Login to grab data from google cloud\n",
        "project_id = 'grownome'\n",
        "from google.colab import auth\n",
        "auth.authenticate_user()"
      ],
      "execution_count": 0,
      "outputs": []
    },
    {
      "cell_type": "markdown",
      "metadata": {
        "id": "qfD5ibtg6npN",
        "colab_type": "text"
      },
      "source": [
        "OPTIONAL"
      ]
    },
    {
      "cell_type": "code",
      "metadata": {
        "id": "hUEsZE5R6n1p",
        "colab_type": "code",
        "outputId": "e6ac1246-df9c-46f9-baf2-0cafa880ea4b",
        "colab": {
          "base_uri": "https://localhost:8080/",
          "height": 3063
        }
      },
      "source": [
        "!gsutil -m rsync -r gs://grownome.appspot.com/images/ gs://grownome-vcm/images/"
      ],
      "execution_count": 0,
      "outputs": [
        {
          "output_type": "stream",
          "text": [
            "Building synchronization state...\n",
            "At source listing 10000...\n",
            "At destination listing 10000...\n",
            "At destination listing 20000...\n",
            "Starting synchronization...\n",
            "Copying gs://grownome.appspot.com/images/2538009072846140/1544230328755-0644ed21611a1d9a3ea068088a492b86.jpg [Content-Type=image/jpeg]...\n",
            "Copying gs://grownome.appspot.com/images/2538009072846140/1544370062635-062f6c1f08fd38641b5f1cb2a5492d30.jpg [Content-Type=image/jpeg]...\n",
            "Copying gs://grownome.appspot.com/images/2538009072846140/1544383911935-0502087a3c4d9a5c2ec430bf0f94a129.jpg [Content-Type=image/jpeg]...\n",
            "Copying gs://grownome.appspot.com/images/2538009072846140/1544358865658-072bf0ee7aff82de7fecf740687e47ce.jpg [Content-Type=image/jpeg]...\n",
            "Copying gs://grownome.appspot.com/images/2538009072846140/1544235874323-075902e70344c0d0ebf03a80c0414712.jpg [Content-Type=image/jpeg]...\n",
            "Copying gs://grownome.appspot.com/images/2538009072846140/1544353116120-02acc88156d878447dd35d03cf2aa9c8.jpg [Content-Type=image/jpeg]...\n",
            "Copying gs://grownome.appspot.com/images/2538009072846140/1544273434199-05c9ae4267f6e028762039521dae396b.jpg [Content-Type=image/jpeg]...\n",
            "Copying gs://grownome.appspot.com/images/2538009072846140/1544335566954-03659f229e73ddaef5afcb3ced78cdd5.jpg [Content-Type=image/jpeg]...\n",
            "Copying gs://grownome.appspot.com/images/2538009072846140/1544352512407-022eebdc6136d868b3b7ad3712ebb3af.jpg [Content-Type=image/jpeg]...\n",
            "Copying gs://grownome.appspot.com/images/2538009072846140/1544347970424-0471e538f6f845e3de17731df8114511.jpg [Content-Type=image/jpeg]...\n",
            "Copying gs://grownome.appspot.com/images/2538009072846140/1544390387371-056f4443939c4cd867691ff17a400668.jpg [Content-Type=image/jpeg]...\n",
            "Copying gs://grownome.appspot.com/images/2538009072846140/1544393153017-048b5de54d402df72240aef24747f371.jpg [Content-Type=image/jpeg]...\n",
            "Copying gs://grownome.appspot.com/images/2538009072846140/1544397780821-03c8427320f5edd0df2c4c8d61f12311.jpg [Content-Type=image/jpeg]...\n",
            "Copying gs://grownome.appspot.com/images/2538009072846140/1544420107995-076cd646ba2a454553f4f125e1f4a5ba.jpg [Content-Type=image/jpeg]...\n",
            "Copying gs://grownome.appspot.com/images/2538009072846140/1544421311607-06f1c55556614c694f0e6507432c0ee0.jpg [Content-Type=image/jpeg]...\n",
            "Copying gs://grownome.appspot.com/images/2538009072846140/1544427062150-00bddc2037402b7c5efa87d8144f8ae9.jpg [Content-Type=image/jpeg]...\n",
            "Copying gs://grownome.appspot.com/images/2538009072846140/1544434321175-054320067d1b61c410e75bec9e6ac3dd.jpg [Content-Type=image/jpeg]...\n",
            "Copying gs://grownome.appspot.com/images/2538009072846140/1544436744175-07c3806552227e16c61027d7349d1bfc.jpg [Content-Type=image/jpeg]...\n",
            "Copying gs://grownome.appspot.com/images/2538009072846140/1544457023266-05416690ee5e3252ef280cbb81e78fad.jpg [Content-Type=image/jpeg]...\n",
            "Copying gs://grownome.appspot.com/images/2538009072846140/1544461955429-039f807bc84e89d464206cf5b77e3def.jpg [Content-Type=image/jpeg]...\n",
            "Copying gs://grownome.appspot.com/images/2538009072846140/1544465648991-0036fa24e681d7bdf14ab8f96c242b1c.jpg [Content-Type=image/jpeg]...\n",
            "Copying gs://grownome.appspot.com/images/2538009072846140/1544470880680-05e520a7c0445b0c6eabf04be9571747.jpg [Content-Type=image/jpeg]...\n",
            "Copying gs://grownome.appspot.com/images/2538009072846140/1544471788910-0355b991839ae078eec71e85ed5e7fe2.jpg [Content-Type=image/jpeg]...\n",
            "Copying gs://grownome.appspot.com/images/2538009072846140/1544474549525-06abccf4e4ca254c3b1cdd612d43beed.jpg [Content-Type=image/jpeg]...\n",
            "Copying gs://grownome.appspot.com/images/2538009072846140/1544484652001-05148976ab54e7ed761bca16bc01be07.jpg [Content-Type=image/jpeg]...\n",
            "Copying gs://grownome.appspot.com/images/2538009072846140/1544490479680-02edef16c9c7ace40e9a4189f81c924e.jpg [Content-Type=image/jpeg]...\n",
            "Copying gs://grownome.appspot.com/images/2538009072846140/1544516594829-06e965451e596ef918f26c05bb9a39ae.jpg [Content-Type=image/jpeg]...\n",
            "Copying gs://grownome.appspot.com/images/2538009072846140/1544521734821-05bb17b0b021fe11ef5db69977a4a4c1.jpg [Content-Type=image/jpeg]...\n",
            "Copying gs://grownome.appspot.com/images/2538009072846140/1544526882131-02f3927e92ae4d48e89be8045e1be9cf.jpg [Content-Type=image/jpeg]...\n",
            "Copying gs://grownome.appspot.com/images/2538009072846140/1544526577753-021334daa1e8f64a6d4ee90b50165ddf.jpg [Content-Type=image/jpeg]...\n",
            "Copying gs://grownome.appspot.com/images/2538009072846140/1544532937323-0044aba2b70bb860d7cbb83411fa8e3e.jpg [Content-Type=image/jpeg]...\n",
            "Copying gs://grownome.appspot.com/images/2574585559722925/1544229770278-02543aa20bcb7be0fb61412465afdf4b.jpg [Content-Type=image/jpeg]...\n",
            "Copying gs://grownome.appspot.com/images/2574585559722925/1544238879809-04aa8efc760f40faf9cfcdb219e767ea.jpg [Content-Type=image/jpeg]...\n",
            "Copying gs://grownome.appspot.com/images/2574585559722925/1544251589645-023b4f5e66f556d07bc888121e6ac65f.jpg [Content-Type=image/jpeg]...\n",
            "Copying gs://grownome.appspot.com/images/2574585559722925/1544256125703-049ac81963792e16e84f58669e4b30ca.jpg [Content-Type=image/jpeg]...\n",
            "Copying gs://grownome.appspot.com/images/2574585559722925/1544267307799-049e20713b3b7dec4d465e844c493be8.jpg [Content-Type=image/jpeg]...\n",
            "Copying gs://grownome.appspot.com/images/2574585559722925/1544269726579-01597d6d20acfcac66100fc4774d87ed.jpg [Content-Type=image/jpeg]...\n",
            "Copying gs://grownome.appspot.com/images/2574585559722925/1544275799590-03c6e31030166dd575319481ccf9a035.jpg [Content-Type=image/jpeg]...\n",
            "Copying gs://grownome.appspot.com/images/2574585559722925/1544286191980-011b068d4ccb1e82e1f9b0b0bc0f7397.jpg [Content-Type=image/jpeg]...\n",
            "Copying gs://grownome.appspot.com/images/2574585559722925/1544293821382-00699363539fdfabb8ef35202c3d12e4.jpg [Content-Type=image/jpeg]...\n",
            "Copying gs://grownome.appspot.com/images/2574585559722925/1544294121054-0514cacdb83da8e712c94dfb65b65bb9.jpg [Content-Type=image/jpeg]...\n",
            "Copying gs://grownome.appspot.com/images/2574585559722925/1544302355774-03b1d5189a622b9c58b468bbcd20b94a.jpg [Content-Type=image/jpeg]...\n",
            "Copying gs://grownome.appspot.com/images/2574585559722925/1544308736705-02be6ab591df04cd3afa74b4128015c3.jpg [Content-Type=image/jpeg]...\n",
            "Copying gs://grownome.appspot.com/images/2574585559722925/1544315416447-0752c09614740f7e9cfb585cdb3ce783.jpg [Content-Type=image/jpeg]...\n",
            "Copying gs://grownome.appspot.com/images/2578132625949784/1544226121885-014f3f8a0a3927202aa77cab3cfe59e2.jpg [Content-Type=image/jpeg]...\n",
            "Copying gs://grownome.appspot.com/images/2578132625949784/1544237339204-02a83e2b5212844259bce999a5ffb2a8.jpg [Content-Type=image/jpeg]...\n",
            "Copying gs://grownome.appspot.com/images/2578132625949784/1544253406934-026116be1975aa4a2802ce86454f2314.jpg [Content-Type=image/jpeg]...\n",
            "Copying gs://grownome.appspot.com/images/2578132625949784/1544258257075-05315d197e42d8cd0ec49571c8916336.jpg [Content-Type=image/jpeg]...\n",
            "Copying gs://grownome.appspot.com/images/2578132625949784/1544274012464-05b0cb5fc7187e7a988d5e0f17a6009e.jpg [Content-Type=image/jpeg]...\n",
            "Copying gs://grownome.appspot.com/images/2578132625949784/1544292197351-064027bf9afaa94051d0e8cd6ed63183.jpg [Content-Type=image/jpeg]...\n",
            "Copying gs://grownome.appspot.com/images/2578132625949784/1544301294695-0262740739933e79a7275a9c7fd6d761.jpg [Content-Type=image/jpeg]...\n",
            "Copying gs://grownome.appspot.com/images/2578132625949784/1544307362632-044ba98378497e4d74a937b36fd34c2a.jpg [Content-Type=image/jpeg]...\n",
            "Copying gs://grownome.appspot.com/images/2578132625949784/1544317686851-00d86e6c7f9ca4152438b1d741062e5b.jpg [Content-Type=image/jpeg]...\n",
            "Copying gs://grownome.appspot.com/images/2578132625949784/1544330448535-01fefab1c12af5ba5671c228aca6ac30.jpg [Content-Type=image/jpeg]...\n",
            "Copying gs://grownome.appspot.com/images/2578132625949784/1544331661057-0770a7b0592fdd143c339a9c84ecc1a9.jpg [Content-Type=image/jpeg]...\n",
            "Copying gs://grownome.appspot.com/images/2578132625949784/1544334998347-0093beffbb52cfa14bf51b6d36be0939.jpg [Content-Type=image/jpeg]...\n",
            "Copying gs://grownome.appspot.com/images/2578132625949784/1544358325875-0105ae32faf2bb4fbbac3f0ed9580a39.jpg [Content-Type=image/jpeg]...\n",
            "Copying gs://grownome.appspot.com/images/2578132625949784/1544359236582-0196e279ac2a47fc6613536af9c2a351.jpg [Content-Type=image/jpeg]...\n",
            "Copying gs://grownome.appspot.com/images/2578132625949784/1544376807187-07bf589cc6ffc55109240869cfcff6a0.jpg [Content-Type=image/jpeg]...\n",
            "Copying gs://grownome.appspot.com/images/2578132625949784/1544397740138-00817424086b1706014ccfee663ba484.jpg [Content-Type=image/jpeg]...\n",
            "Copying gs://grownome.appspot.com/images/2578132625949784/1544403194460-02efe1f9d058b8cab60944c03562742b.jpg [Content-Type=image/jpeg]...\n",
            "Copying gs://grownome.appspot.com/images/2578132625949784/1544404709983-024c6d869068fb262c526390837215b0.jpg [Content-Type=image/jpeg]...\n",
            "Copying gs://grownome.appspot.com/images/2578132625949784/1544422595490-020893d0c50ba9183a37b4267d12b128.jpg [Content-Type=image/jpeg]...\n",
            "Copying gs://grownome.appspot.com/images/2578132625949784/1544426233080-06785170459f92205241b7be5ca6644c.jpg [Content-Type=image/jpeg]...\n",
            "Copying gs://grownome.appspot.com/images/2578132625949784/1544444715935-053deb2a6f860f3cf980f85fa7bfc983.jpg [Content-Type=image/jpeg]...\n",
            "Copying gs://grownome.appspot.com/images/2578132625949784/1544461377309-027c4ab61095760865a60158dfb4034a.jpg [Content-Type=image/jpeg]...\n",
            "Copying gs://grownome.appspot.com/images/2578132625949784/1544461682737-067fc4c3278d637b4f4a8d1f3c98a478.jpg [Content-Type=image/jpeg]...\n",
            "Copying gs://grownome.appspot.com/images/2578132625949784/1544473503852-021ceb266d62484938b615f922106130.jpg [Content-Type=image/jpeg]...\n",
            "Copying gs://grownome.appspot.com/images/2578132625949784/1544486856672-024a3d9cab46ca6db0a5503c36e057c7.jpg [Content-Type=image/jpeg]...\n",
            "Copying gs://grownome.appspot.com/images/2639491175006590/1544230049146-06b0cb6f538fb784705165376475910c.jpg [Content-Type=image/jpeg]...\n",
            "Copying gs://grownome.appspot.com/images/2639491175006590/1544245857457-03750c5e78845b805251e4e5c089196b.jpg [Content-Type=image/jpeg]...\n",
            "Copying gs://grownome.appspot.com/images/2639491175006590/1544250113991-0545997120cdac43d6e116e5b9ff9e31.jpg [Content-Type=image/jpeg]...\n",
            "Copying gs://grownome.appspot.com/images/2639491175006590/1544254960572-056f93ff25196d3ebf462ba6edeff239.jpg [Content-Type=image/jpeg]...\n",
            "Copying gs://grownome.appspot.com/images/2639491175006590/1544258596676-01fad9784c96260378f910794ece86d8.jpg [Content-Type=image/jpeg]...\n",
            "Copying gs://grownome.appspot.com/images/2639491175006590/1544264968942-042f9ce75ffe157fb07e63be6baff8d2.jpg [Content-Type=image/jpeg]...\n",
            "Copying gs://grownome.appspot.com/images/2639491175006590/1544265874622-01ce8251c0f7908b63b98636cf65fe84.jpg [Content-Type=image/jpeg]...\n",
            "Copying gs://grownome.appspot.com/images/2639491175006590/1544286582935-057ae08522e2c36ed088b5289220b311.jpg [Content-Type=image/jpeg]...\n",
            "Copying gs://grownome.appspot.com/images/2639491175006590/1544289980704-01c4369a9e941763f83d65553c34ce05.jpg [Content-Type=image/jpeg]...\n",
            "Copying gs://grownome.appspot.com/images/2639491175006590/1544313668313-0606874fb9c10ce957a0670adbcef308.jpg [Content-Type=image/jpeg]...\n",
            "Copying gs://grownome.appspot.com/images/2639491175006590/1544317976593-058950396c74a2964d0a81ad162bfbb1.jpg [Content-Type=image/jpeg]...\n",
            "Copying gs://grownome.appspot.com/images/2639491175006590/1544320408312-0513ad2143de17906b4d2fe5963ef37f.jpg [Content-Type=image/jpeg]...\n",
            "Copying gs://grownome.appspot.com/images/2639491175006590/1544349544666-05701295c116ce65f6b1b05202c24a56.jpg [Content-Type=image/jpeg]...\n",
            "Copying gs://grownome.appspot.com/images/2639491175006590/1544364405341-01c168b97ff1fb67f82357c898673b40.jpg [Content-Type=image/jpeg]...\n",
            "Copying gs://grownome.appspot.com/images/2639491175006590/1544373292659-059524f34da2f0010f0f0e08d7f3c57f.jpg [Content-Type=image/jpeg]...\n",
            "Copying gs://grownome.appspot.com/images/2639491175006590/1544373607028-03d3f54e1f66bd8dfb8b06bf5c6dbcce.jpg [Content-Type=image/jpeg]...\n",
            "Copying gs://grownome.appspot.com/images/2639491175006590/1544381282317-01bdaf0a44006129b278aada0bab854c.jpg [Content-Type=image/jpeg]...\n",
            "Copying gs://grownome.appspot.com/images/2639491175006590/1544378518455-02786cefdecb19d19b87f8902463a975.jpg [Content-Type=image/jpeg]...\n",
            "Copying gs://grownome.appspot.com/images/2639491175006590/1544391733309-0496bee843bba0f1ea94921006b69c49.jpg [Content-Type=image/jpeg]...\n",
            "Copying gs://grownome.appspot.com/images/2639491175006590/1544411917390-03e19fa254a2ef11e874eae819c3a087.jpg [Content-Type=image/jpeg]...\n",
            "Copying gs://grownome.appspot.com/images/2639491175006590/1544416482212-002ab39f8b374f167f8f1393107d3816.jpg [Content-Type=image/jpeg]...\n",
            "Copying gs://grownome.appspot.com/images/2639491175006590/1544421341872-030149d7280a9d6bbea94a9e8f1f00bd.jpg [Content-Type=image/jpeg]...\n",
            "Copying gs://grownome.appspot.com/images/2639491175006590/1544427705680-063f8955d94a8acdc118d4f8be3f027c.jpg [Content-Type=image/jpeg]...\n",
            "Copying gs://grownome.appspot.com/images/2639491175006590/1544443470123-0057d5cb6312080933f4ba10e154906e.jpg [Content-Type=image/jpeg]...\n",
            "Copying gs://grownome.appspot.com/images/2639491175006590/1544457179067-075ce2594594408864ce5adb810d4afd.jpg [Content-Type=image/jpeg]...\n",
            "Copying gs://grownome.appspot.com/images/2639491175006590/1544465803726-01f7f9c3ea2e387087bdc8c1d807808c.jpg [Content-Type=image/jpeg]...\n",
            "Copying gs://grownome.appspot.com/images/2639491175006590/1544466102448-0429853d54c7c06324f9c246d62d34c8.jpg [Content-Type=image/jpeg]...\n",
            "Copying gs://grownome.appspot.com/images/2639491175006590/1544473184848-012ff55ee44b4a7bcc4786d2272d9e2b.jpg [Content-Type=image/jpeg]...\n",
            "Copying gs://grownome.appspot.com/images/2639491175006590/1544485192749-0727d2c6eefc99dd789c5eb53f42b493.jpg [Content-Type=image/jpeg]...\n",
            "Copying gs://grownome.appspot.com/images/2639491175006590/1544478115729-03b485781230db2db0083c023049ca30.jpg [Content-Type=image/jpeg]...\n",
            "Copying gs://grownome.appspot.com/images/2639491175006590/1544506526101-0775777c68b3e00d726413dbb8babae8.jpg [Content-Type=image/jpeg]...\n",
            "Copying gs://grownome.appspot.com/images/2639491175006590/1544510166932-03353f4f0552bcbe3c334b7374fbc791.jpg [Content-Type=image/jpeg]...\n",
            "Copying gs://grownome.appspot.com/images/2639491175006590/1544513198739-046a076eae24b4397e05366393287705.jpg [Content-Type=image/jpeg]...\n",
            "Copying gs://grownome.appspot.com/images/2639491175006590/1544541099636-058eb1fd3168f44a54bef2b443ceda75.jpg [Content-Type=image/jpeg]...\n",
            "Copying gs://grownome.appspot.com/images/2639491175006590/1544558619083-04d1dcd5265d8a0f6580b437bfebc7f7.jpg [Content-Type=image/jpeg]...\n",
            "Copying gs://grownome.appspot.com/images/2662495380132089/1544226067648-073cce6e6bd1b954c8c77e3876fc9c6e.jpg [Content-Type=image/jpeg]...\n",
            "Copying gs://grownome.appspot.com/images/2662495380132089/1544227882186-024d0bb88f24a990c87e07059ae00145.jpg [Content-Type=image/jpeg]...\n",
            "Copying gs://grownome.appspot.com/images/2662495380132089/1544230894275-0688bbe8ad00edaa4c875818fb8d3ced.jpg [Content-Type=image/jpeg]...\n",
            "Copying gs://grownome.appspot.com/images/2662495380132089/1544239052762-00e0157f81bc780c510279419940a964.jpg [Content-Type=image/jpeg]...\n",
            "Copying gs://grownome.appspot.com/images/2662495380132089/1544240861042-015e5e400ecdf885fba3c9693d132d63.jpg [Content-Type=image/jpeg]...\n",
            "Copying gs://grownome.appspot.com/images/2662495380132089/1544268321177-04713215c439f9c636d4ede5a258bb3b.jpg [Content-Type=image/jpeg]...\n",
            "Copying gs://grownome.appspot.com/images/2662495380132089/1544268626200-00a81296d964395b06a7540d80b7cf33.jpg [Content-Type=image/jpeg]...\n",
            "Copying gs://grownome.appspot.com/images/2662495380132089/1544275273038-03b5ee52f68e55dbb0e4bc97d65f4b22.jpg [Content-Type=image/jpeg]...\n",
            "Copying gs://grownome.appspot.com/images/2662495380132089/1544304242698-0300b9bc825d06749667744ff097cfa4.jpg [Content-Type=image/jpeg]...\n",
            "Copying gs://grownome.appspot.com/images/2662495380132089/1544312390350-07feed40a025a5af482b2d0be5762746.jpg [Content-Type=image/jpeg]...\n",
            "Copying gs://grownome.appspot.com/images/2662495380132089/1544339569238-02c4bc1b604e072e845d7e462522fa4e.jpg [Content-Type=image/jpeg]...\n",
            "Copying gs://grownome.appspot.com/images/2662495380132089/1544350441658-009ffe85b72cc6afafe6d94803eb9f80.jpg [Content-Type=image/jpeg]...\n",
            "Copying gs://grownome.appspot.com/images/2662495380132089/1544357988146-007ae7b833780a9735b3366eca5f8e6e.jpg [Content-Type=image/jpeg]...\n",
            "Copying gs://grownome.appspot.com/images/2662495380132089/1544361309456-057d0fc9b5338c4a4817250bbaaa490e.jpg [Content-Type=image/jpeg]...\n",
            "Copying gs://grownome.appspot.com/images/2662495380132089/1544380606141-06dc3f42925fc16970ba0060a1a83f15.jpg [Content-Type=image/jpeg]...\n",
            "Copying gs://grownome.appspot.com/images/2662495380132089/1544385438086-0168df142a620712f2ef0c56df996816.jpg [Content-Type=image/jpeg]...\n",
            "Copying gs://grownome.appspot.com/images/2662495380132089/1544387863775-0605d5f1b29f072c0eecfc4ea4e1fa01.jpg [Content-Type=image/jpeg]...\n",
            "Copying gs://grownome.appspot.com/images/2662495380132089/1544389066067-05fcd5ddf0ee15d7cc067240125e1bf8.jpg [Content-Type=image/jpeg]...\n",
            "Copying gs://grownome.appspot.com/images/2662495380132089/1544412901325-048e82cd51a9833c71fa87aa0feb8891.jpg [Content-Type=image/jpeg]...\n",
            "Copying gs://grownome.appspot.com/images/2662495380132089/1544420151790-077e4b2d3f71dbfab97451972e289fbd.jpg [Content-Type=image/jpeg]...\n",
            "Copying gs://grownome.appspot.com/images/2662495380132089/1544432820819-00989dd5b6713e101b312909d9624059.jpg [Content-Type=image/jpeg]...\n",
            "Copying gs://grownome.appspot.com/images/2662495380132089/1544465088820-01bfe5797f31105df381befe632b2129.jpg [Content-Type=image/jpeg]...\n",
            "Copying gs://grownome.appspot.com/images/2662495380132089/1544481374789-067b4f5f00c24d093b39a838f2ecd36a.jpg [Content-Type=image/jpeg]...\n",
            "Copying gs://grownome.appspot.com/images/2662495380132089/1544508838240-05a6f2c410e358ff96650938997a653c.jpg [Content-Type=image/jpeg]...\n",
            "Copying gs://grownome.appspot.com/images/2662495380132089/1544519396218-02d789b7fec9691bb91e647d2b0e2261.jpg [Content-Type=image/jpeg]...\n",
            "Copying gs://grownome.appspot.com/images/2662495380132089/1544527547380-072b6267796e943b89f1842353f575e4.jpg [Content-Type=image/jpeg]...\n",
            "Copying gs://grownome.appspot.com/images/2662495380132089/1544522116287-0511f74b9ad08d32902b451f4be3347b.jpg [Content-Type=image/jpeg]...\n",
            "Copying gs://grownome.appspot.com/images/2716136462675365/1544232033362-03210223a295fe4fbcce6b63ee829bb3.jpg [Content-Type=image/jpeg]...\n",
            "Copying gs://grownome.appspot.com/images/2716136462675365/1544236941763-015586617835d0d04c21baad333840f3.jpg [Content-Type=image/jpeg]...\n",
            "Copying gs://grownome.appspot.com/images/2716136462675365/1544242147698-0291783c2c8e315804801fbe7c646bb2.jpg [Content-Type=image/jpeg]...\n",
            "Copying gs://grownome.appspot.com/images/2716136462675365/1544243989051-02a79d2d61fa814f5f14ae97448e3962.jpg [Content-Type=image/jpeg]...\n",
            "Copying gs://grownome.appspot.com/images/2716136462675365/1544248898133-00aeb301951b923bc4fde6526afa1f74.jpg [Content-Type=image/jpeg]...\n",
            "Copying gs://grownome.appspot.com/images/2716136462675365/1544259943051-0295b334b1c2b715115f772bcafca26a.jpg [Content-Type=image/jpeg]...\n",
            "Copying gs://grownome.appspot.com/images/2716136462675365/1544264239350-04c68e4219f194d2d7e7e44ff79ef40d.jpg [Content-Type=image/jpeg]...\n",
            "Copying gs://grownome.appspot.com/images/2716136462675365/1544285415121-04a8464063f62bf1449f97b1cd074906.jpg [Content-Type=image/jpeg]...\n",
            "Copying gs://grownome.appspot.com/images/2716136462675365/1544295842544-007c8aff6b84b5bf73915bdb1788a988.jpg [Content-Type=image/jpeg]...\n",
            "Copying gs://grownome.appspot.com/images/2716136462675365/1544300747637-076ebab18343ceea660ac216b6d53152.jpg [Content-Type=image/jpeg]...\n",
            "Copying gs://grownome.appspot.com/images/2716136462675365/1544314253237-040a1b3bbbe4eff43a363bdd25d8c7e7.jpg [Content-Type=image/jpeg]...\n",
            "Copying gs://grownome.appspot.com/images/2716136462675365/1544322529204-00a17aa0ed3e643f2faf46ad94137583.jpg [Content-Type=image/jpeg]...\n",
            "Copying gs://grownome.appspot.com/images/2716136462675365/1544326826221-0582fd5642b4db56daf7b011f54fd791.jpg [Content-Type=image/jpeg]...\n",
            "Copying gs://grownome.appspot.com/images/2716136462675365/1544327439421-05eb0bfe33505792ec48aa78ba1ef832.jpg [Content-Type=image/jpeg]...\n",
            "Copying gs://grownome.appspot.com/images/2716136462675365/1544338787967-0414f3f82b5a115e252828dbb32e8d56.jpg [Content-Type=image/jpeg]...\n",
            "Copying gs://grownome.appspot.com/images/2716136462675365/1544339700905-031166ffc5e2824be2336f9c269ccaa2.jpg [Content-Type=image/jpeg]...\n",
            "Copying gs://grownome.appspot.com/images/2716136462675365/1544367041429-0782441ff2ecac80e19c21b5785d60a6.jpg [Content-Type=image/jpeg]...\n",
            "Copying gs://grownome.appspot.com/images/2716136462675365/1544385760622-02d70c17560cc0f02e8f211fc29347a4.jpg [Content-Type=image/jpeg]...\n",
            "Copying gs://grownome.appspot.com/images/2716136462675365/1544396195098-06dafb36ea48bb12fc1523189f1c28c0.jpg [Content-Type=image/jpeg]...\n",
            "Copying gs://grownome.appspot.com/images/2716136462675365/1544398037118-02dd8e9fea3a82cc1887a8cf93ee0679.jpg [Content-Type=image/jpeg]...\n",
            "Copying gs://grownome.appspot.com/images/2716136462675365/1544404493907-02abf09791505a49cc8f5f88a4239b77.jpg [Content-Type=image/jpeg]...\n",
            "Copying gs://grownome.appspot.com/images/2716136462675365/1544415225002-00cc3cdfbe589edfc03ebfd092203834.jpg [Content-Type=image/jpeg]...\n",
            "Copying gs://grownome.appspot.com/images/2716136462675365/1544421360932-002d1740e8edbc089579ba4fea913612.jpg [Content-Type=image/jpeg]...\n",
            "Copying gs://grownome.appspot.com/images/2716136462675365/1544426272414-04fc10f6ae02e6efbbcaceb1c12c649f.jpg [Content-Type=image/jpeg]...\n",
            "Copying gs://grownome.appspot.com/images/2716136462675365/1544430268268-00c52838bcb98b83a629c326933f0176.jpg [Content-Type=image/jpeg]...\n",
            "Copying gs://grownome.appspot.com/images/2716136462675365/1544448083510-004fcbd0254b3b35313ad4b25f43b364.jpg [Content-Type=image/jpeg]...\n",
            "Copying gs://grownome.appspot.com/images/2716136462675365/1544451452228-01a9dc1de032f1cd205bb22d8aac231b.jpg [Content-Type=image/jpeg]...\n",
            "Copying gs://grownome.appspot.com/images/2716136462675365/1544471420058-07bce2a887218eec503cb37db4f5a2d8.jpg [Content-Type=image/jpeg]...\n",
            "Copying gs://grownome.appspot.com/images/2716136462675365/1544475100311-002feed872a47b5340345926b856ba5a.jpg [Content-Type=image/jpeg]...\n",
            "Copying gs://grownome.appspot.com/images/2716136462675365/1544482773968-017fbcc82b302de9ee7d42e43edabcb0.jpg [Content-Type=image/jpeg]...\n",
            "Copying gs://grownome.appspot.com/images/2716136462675365/1544483389081-04e4b359f62eb9ef80edb45b2bba0fa0.jpg [Content-Type=image/jpeg]...\n",
            "Copying gs://grownome.appspot.com/images/2716136462675365/1544484003552-055432af4655305cfcd4d4f9268801ac.jpg [Content-Type=image/jpeg]...\n",
            "Copying gs://grownome.appspot.com/images/2716136462675365/1544484934118-02a76ade97c108ff2319ee4c001b6ffb.jpg [Content-Type=image/jpeg]...\n",
            "Copying gs://grownome.appspot.com/images/2716136462675365/1544514710739-05bf0df1e32526e4a1b06263143f10f3.jpg [Content-Type=image/jpeg]...\n",
            "Copying gs://grownome.appspot.com/images/2716136462675365/1544530978614-0406f3b777f001f81c92bcad19c64d0f.jpg [Content-Type=image/jpeg]...\n",
            "Copying gs://grownome.appspot.com/images/2716136462675365/1544531279564-05b181288ff8c65125ac11c893f6dfb6.jpg [Content-Type=image/jpeg]...\n",
            "Copying gs://grownome.appspot.com/images/2716136462675365/1544542046289-022a30d1e9c7f44d3aaecc714d2f4aa6.jpg [Content-Type=image/jpeg]...\n",
            "Copying gs://grownome.appspot.com/images/2716136462675365/1544543889490-037a632560d8108210c907ef4e72ea43.jpg [Content-Type=image/jpeg]...\n",
            "Copying gs://grownome.appspot.com/images/2716136462675365/1544544189959-056a8f8f06715d6c027ec1f9d6af9980.jpg [Content-Type=image/jpeg]...\n",
            "Copying gs://grownome.appspot.com/images/2716136462675365/1544552175743-006a38016e5c9f485005af826625aca6.jpg [Content-Type=image/jpeg]...\n",
            "- [171/171 files][ 32.6 MiB/ 32.6 MiB] 100% Done 316.7 KiB/s ETA 00:00:00       \n",
            "Operation completed over 171 objects/32.6 MiB.                                   \n"
          ],
          "name": "stdout"
        }
      ]
    },
    {
      "cell_type": "markdown",
      "metadata": {
        "id": "p9I3tkKKkhII",
        "colab_type": "text"
      },
      "source": [
        "Pull images from folder in Google Cloud"
      ]
    },
    {
      "cell_type": "code",
      "metadata": {
        "id": "EIqsyow7kgE_",
        "colab_type": "code",
        "colab": {}
      },
      "source": [
        "# Get data from google cloud  and assign it to list\n",
        "!gsutil ls gs://grownome-vcm/images/2538009072846140/ > imagelist.txt\n",
        "  \n",
        "#check\n",
        "#!cat imagelist.txt"
      ],
      "execution_count": 0,
      "outputs": []
    },
    {
      "cell_type": "markdown",
      "metadata": {
        "id": "7ZLx_tWH69Cs",
        "colab_type": "text"
      },
      "source": [
        "Pull data"
      ]
    },
    {
      "cell_type": "code",
      "metadata": {
        "id": "hjU4u6n07AuM",
        "colab_type": "code",
        "colab": {}
      },
      "source": [
        "def parse_img_list(filepath):\n",
        "  # create list for raw images\n",
        "  raw_img_paths = []\n",
        "\n",
        "  # get handle to txt file, read lines out of txt file, \n",
        "  # split by '\\n', close handle\n",
        "  with open(filepath) as f:\n",
        "    raw_img_paths = f.read().split('\\n')\n",
        "\n",
        "  # create list for img paths\n",
        "  parsed_img_paths = []\n",
        "\n",
        "  # parsing img path filenames\n",
        "  for img_path in raw_img_paths:\n",
        "    if img_path != '':\n",
        "      # split the url\n",
        "      split_img_path = img_path.split('/')\n",
        "      # get last device id and img filename from url\n",
        "      device_id = split_img_path[4]\n",
        "      file_name = split_img_path[5]\n",
        "      # split img file name by '-'\n",
        "      file_name_parts = file_name.split('-')\n",
        "      \n",
        "      if(len(file_name_parts[0]) == 13):\n",
        "        # convert timestamp to int\n",
        "        # divide timestamp by 1000 to convert from miliseconds to seconds\n",
        "        timestamp = int(file_name_parts[0])/1000\n",
        "        # parse timestamp into time object\n",
        "        parsed_timestamp = datetime.utcfromtimestamp(timestamp)\n",
        "        # putting device_id, timestamp, and img_path into dictionary\n",
        "        parsed_part = {'device_id': device_id, \n",
        "                       'timestamp': parsed_timestamp,\n",
        "                       'img_path': img_path}\n",
        "        # append parsed part to list\n",
        "        parsed_img_paths.append(parsed_part)\n",
        "\n",
        "  # check: print list\n",
        "  return parsed_img_paths\n",
        "\n",
        "unsorted_img_list = parse_img_list('imagelist.txt')"
      ],
      "execution_count": 0,
      "outputs": []
    },
    {
      "cell_type": "markdown",
      "metadata": {
        "id": "GDoTVTOW7JSa",
        "colab_type": "text"
      },
      "source": [
        "Sort list by timestamp"
      ]
    },
    {
      "cell_type": "code",
      "metadata": {
        "id": "Mj0Ab0Dd7LBV",
        "colab_type": "code",
        "colab": {}
      },
      "source": [
        "dark_img_list = sorted(unsorted_img_list, key=itemgetter('timestamp'))"
      ],
      "execution_count": 0,
      "outputs": []
    },
    {
      "cell_type": "code",
      "metadata": {
        "id": "N6iCUf6fZKrt",
        "colab_type": "code",
        "colab": {}
      },
      "source": [
        "dark_img_list\n",
        "\n",
        "with open('dark_img_list.csv', 'w') as csvfile:\n",
        "    fieldnames = ['img_path']\n",
        "    \n",
        "    writer = csv.DictWriter(csvfile, extrasaction='ignore', fieldnames=fieldnames)\n",
        "\n",
        "    for item in dark_img_list:\n",
        "      \n",
        "      writer.writerow(item)"
      ],
      "execution_count": 0,
      "outputs": []
    },
    {
      "cell_type": "code",
      "metadata": {
        "id": "4N211jSnfHge",
        "colab_type": "code",
        "outputId": "134893ae-1697-4bf4-f817-56568332ff3d",
        "colab": {
          "base_uri": "https://localhost:8080/",
          "height": 68
        }
      },
      "source": [
        "!gsutil cp ./dark_img_list.csv gs://grownome-vcm/files.csv"
      ],
      "execution_count": 0,
      "outputs": [
        {
          "output_type": "stream",
          "text": [
            "Copying file://./dark_img_list.csv [Content-Type=text/csv]...\n",
            "-\n",
            "Operation completed over 1 objects/418.0 KiB.                                    \n"
          ],
          "name": "stdout"
        }
      ]
    },
    {
      "cell_type": "markdown",
      "metadata": {
        "id": "5rjDIVG5HlEX",
        "colab_type": "text"
      },
      "source": [
        "Upload File to Google - AutoML Vision\n",
        "\n",
        "\n",
        "*   make data set that assumes that plants with low humidity are wilted\n",
        "*   label them all as low, med, high (add a label into each item of the list)\n",
        "*  print into csv file\n",
        "*  upload to google cloud (gsutil)\n",
        "\n",
        "also try the humidity 3 hrs ago\n",
        "\n",
        "you havd 7:00 timestamps - if humid is high and it is 7:00 am assume it is watered\n"
      ]
    }
  ]
}